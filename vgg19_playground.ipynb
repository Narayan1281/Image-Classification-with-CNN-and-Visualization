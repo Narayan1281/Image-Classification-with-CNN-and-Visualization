{
  "cells": [
    {
      "cell_type": "code",
      "source": [
        "import os\n",
        "from google.colab import drive\n",
        "import tensorflow as tf\n",
        "from tensorflow import keras\n",
        "from keras.utils.vis_utils import plot_model\n",
        "from keras.utils import load_img\n",
        "import numpy as np\n",
        "import pandas as pd\n",
        "from keras.layers import Dense\n",
        "from tensorflow.keras.initializers import glorot_normal\n",
        "from tensorflow.keras.callbacks import ModelCheckpoint"
      ],
      "metadata": {
        "id": "9xM9SqN0NwNR"
      },
      "execution_count": 1,
      "outputs": []
    },
    {
      "cell_type": "code",
      "source": [
        "drive.mount('/content/drive')\n",
        "path = '/content/drive/My Drive/Assn_5/'\n",
        "os.chdir(path)"
      ],
      "metadata": {
        "colab": {
          "base_uri": "https://localhost:8080/"
        },
        "id": "wiXEPVdbOGfg",
        "outputId": "7f944cf4-26ad-456a-c736-0578fdc1d6fb"
      },
      "execution_count": 2,
      "outputs": [
        {
          "output_type": "stream",
          "name": "stdout",
          "text": [
            "Mounted at /content/drive\n"
          ]
        }
      ]
    },
    {
      "cell_type": "code",
      "source": [
        "%%script echo skip\n",
        "!unzip Group_20.zip "
      ],
      "metadata": {
        "colab": {
          "base_uri": "https://localhost:8080/"
        },
        "id": "jFHx8z3AOnXz",
        "outputId": "8e2590dd-1c6f-41b4-9da6-5cbfd7398213"
      },
      "execution_count": 3,
      "outputs": [
        {
          "output_type": "stream",
          "name": "stdout",
          "text": [
            "skip\n"
          ]
        }
      ]
    },
    {
      "cell_type": "code",
      "source": [
        "!ls"
      ],
      "metadata": {
        "colab": {
          "base_uri": "https://localhost:8080/"
        },
        "id": "nBPdf5b0OoTo",
        "outputId": "f41e6a90-d396-4fca-b7ae-0d7f5ecb6e57"
      },
      "execution_count": 4,
      "outputs": [
        {
          "output_type": "stream",
          "name": "stdout",
          "text": [
            " Group_20       sequential-model-weights   test1.csv\t    weights\n",
            " Group_20.zip   temp_weight-test.csv\t  'vgg19-(1).png'\n"
          ]
        }
      ]
    },
    {
      "cell_type": "code",
      "execution_count": 5,
      "metadata": {
        "colab": {
          "base_uri": "https://localhost:8080/"
        },
        "id": "jK7U98voNt1y",
        "outputId": "254d55c6-93ad-4a7b-dcc1-edffcb289570"
      },
      "outputs": [
        {
          "output_type": "stream",
          "name": "stdout",
          "text": [
            "GPU found\n"
          ]
        }
      ],
      "source": [
        "if tf.test.gpu_device_name():\n",
        "    print('GPU found')\n",
        "else:\n",
        "    print(\"No GPU found\")"
      ]
    },
    {
      "cell_type": "code",
      "execution_count": 6,
      "metadata": {
        "colab": {
          "base_uri": "https://localhost:8080/"
        },
        "id": "Snr9IDXbNt10",
        "outputId": "3c03dca5-6d7a-4f4e-b773-dd0fb46d21c2"
      },
      "outputs": [
        {
          "output_type": "stream",
          "name": "stdout",
          "text": [
            "Downloading data from https://storage.googleapis.com/tensorflow/keras-applications/vgg19/vgg19_weights_tf_dim_ordering_tf_kernels.h5\n",
            "574710816/574710816 [==============================] - 6s 0us/step\n"
          ]
        }
      ],
      "source": [
        "vgg19 = tf.keras.applications.VGG19(\n",
        "    include_top=True,\n",
        "    weights=\"imagenet\",\n",
        "    classes=1000,\n",
        "    classifier_activation=\"softmax\"\n",
        ")"
      ]
    },
    {
      "cell_type": "code",
      "execution_count": 7,
      "metadata": {
        "colab": {
          "base_uri": "https://localhost:8080/"
        },
        "id": "52-gJBW3Nt10",
        "outputId": "7b281009-560b-40a3-e971-71c1864e747c"
      },
      "outputs": [
        {
          "output_type": "stream",
          "name": "stdout",
          "text": [
            "Model: \"vgg19\"\n",
            "_________________________________________________________________\n",
            " Layer (type)                Output Shape              Param #   \n",
            "=================================================================\n",
            " input_1 (InputLayer)        [(None, 224, 224, 3)]     0         \n",
            "                                                                 \n",
            " block1_conv1 (Conv2D)       (None, 224, 224, 64)      1792      \n",
            "                                                                 \n",
            " block1_conv2 (Conv2D)       (None, 224, 224, 64)      36928     \n",
            "                                                                 \n",
            " block1_pool (MaxPooling2D)  (None, 112, 112, 64)      0         \n",
            "                                                                 \n",
            " block2_conv1 (Conv2D)       (None, 112, 112, 128)     73856     \n",
            "                                                                 \n",
            " block2_conv2 (Conv2D)       (None, 112, 112, 128)     147584    \n",
            "                                                                 \n",
            " block2_pool (MaxPooling2D)  (None, 56, 56, 128)       0         \n",
            "                                                                 \n",
            " block3_conv1 (Conv2D)       (None, 56, 56, 256)       295168    \n",
            "                                                                 \n",
            " block3_conv2 (Conv2D)       (None, 56, 56, 256)       590080    \n",
            "                                                                 \n",
            " block3_conv3 (Conv2D)       (None, 56, 56, 256)       590080    \n",
            "                                                                 \n",
            " block3_conv4 (Conv2D)       (None, 56, 56, 256)       590080    \n",
            "                                                                 \n",
            " block3_pool (MaxPooling2D)  (None, 28, 28, 256)       0         \n",
            "                                                                 \n",
            " block4_conv1 (Conv2D)       (None, 28, 28, 512)       1180160   \n",
            "                                                                 \n",
            " block4_conv2 (Conv2D)       (None, 28, 28, 512)       2359808   \n",
            "                                                                 \n",
            " block4_conv3 (Conv2D)       (None, 28, 28, 512)       2359808   \n",
            "                                                                 \n",
            " block4_conv4 (Conv2D)       (None, 28, 28, 512)       2359808   \n",
            "                                                                 \n",
            " block4_pool (MaxPooling2D)  (None, 14, 14, 512)       0         \n",
            "                                                                 \n",
            " block5_conv1 (Conv2D)       (None, 14, 14, 512)       2359808   \n",
            "                                                                 \n",
            " block5_conv2 (Conv2D)       (None, 14, 14, 512)       2359808   \n",
            "                                                                 \n",
            " block5_conv3 (Conv2D)       (None, 14, 14, 512)       2359808   \n",
            "                                                                 \n",
            " block5_conv4 (Conv2D)       (None, 14, 14, 512)       2359808   \n",
            "                                                                 \n",
            " block5_pool (MaxPooling2D)  (None, 7, 7, 512)         0         \n",
            "                                                                 \n",
            " flatten (Flatten)           (None, 25088)             0         \n",
            "                                                                 \n",
            " fc1 (Dense)                 (None, 4096)              102764544 \n",
            "                                                                 \n",
            " fc2 (Dense)                 (None, 4096)              16781312  \n",
            "                                                                 \n",
            " predictions (Dense)         (None, 1000)              4097000   \n",
            "                                                                 \n",
            "=================================================================\n",
            "Total params: 143,667,240\n",
            "Trainable params: 143,667,240\n",
            "Non-trainable params: 0\n",
            "_________________________________________________________________\n",
            "None\n"
          ]
        }
      ],
      "source": [
        "print(vgg19.summary())"
      ]
    },
    {
      "cell_type": "code",
      "execution_count": 8,
      "metadata": {
        "colab": {
          "base_uri": "https://localhost:8080/"
        },
        "id": "nkRggELBNt11",
        "outputId": "7034f896-dbf2-4120-fe89-2f4346f8bb8e"
      },
      "outputs": [
        {
          "output_type": "stream",
          "name": "stdout",
          "text": [
            "skip\n"
          ]
        }
      ],
      "source": [
        "%%script echo skip\n",
        "plot_model(vgg19, show_shapes=False, show_layer_activations=True, to_file='vgg19-(1).png')"
      ]
    },
    {
      "cell_type": "code",
      "execution_count": 9,
      "metadata": {
        "colab": {
          "base_uri": "https://localhost:8080/"
        },
        "id": "7wcTOYePNt12",
        "outputId": "1cceee48-8552-447a-876e-f031ef037095"
      },
      "outputs": [
        {
          "output_type": "stream",
          "name": "stdout",
          "text": [
            "skip\n"
          ]
        }
      ],
      "source": [
        "%%script echo skip\n",
        "for i, hl in enumerate(vgg19.layers):\n",
        "    print(i, \" \", hl.name)"
      ]
    },
    {
      "cell_type": "code",
      "execution_count": 10,
      "metadata": {
        "id": "j4nh37E-Nt12"
      },
      "outputs": [],
      "source": [
        "## create a new layer and add weights to it\n",
        "vgg19_transfer = tf.keras.models.Sequential() #name=transfer_learning\n",
        "for i in range(len(vgg19.layers) - 1):\n",
        "    vgg19_transfer.add(vgg19.layers[i])"
      ]
    },
    {
      "cell_type": "code",
      "execution_count": 11,
      "metadata": {
        "id": "y1eoaBbkNt13"
      },
      "outputs": [],
      "source": [
        "# freeze all the convolution layers in training\n",
        "for hl in vgg19.layers:\n",
        "    hl.trainable = False"
      ]
    },
    {
      "cell_type": "code",
      "execution_count": 12,
      "metadata": {
        "id": "eftRosZONt13"
      },
      "outputs": [],
      "source": [
        "# add a new classification/output layer\n",
        "vgg19_transfer.add(Dense(5, activation = 'softmax', kernel_initializer=glorot_normal(seed=42), name='output_layer'))"
      ]
    },
    {
      "cell_type": "code",
      "source": [
        "vgg19_transfer.summary()"
      ],
      "metadata": {
        "colab": {
          "base_uri": "https://localhost:8080/"
        },
        "id": "K-LPVFGUtAcB",
        "outputId": "dac204d9-0add-47f3-c1d4-f8a26ecb2718"
      },
      "execution_count": 13,
      "outputs": [
        {
          "output_type": "stream",
          "name": "stdout",
          "text": [
            "Model: \"sequential\"\n",
            "_________________________________________________________________\n",
            " Layer (type)                Output Shape              Param #   \n",
            "=================================================================\n",
            " block1_conv1 (Conv2D)       (None, 224, 224, 64)      1792      \n",
            "                                                                 \n",
            " block1_conv2 (Conv2D)       (None, 224, 224, 64)      36928     \n",
            "                                                                 \n",
            " block1_pool (MaxPooling2D)  (None, 112, 112, 64)      0         \n",
            "                                                                 \n",
            " block2_conv1 (Conv2D)       (None, 112, 112, 128)     73856     \n",
            "                                                                 \n",
            " block2_conv2 (Conv2D)       (None, 112, 112, 128)     147584    \n",
            "                                                                 \n",
            " block2_pool (MaxPooling2D)  (None, 56, 56, 128)       0         \n",
            "                                                                 \n",
            " block3_conv1 (Conv2D)       (None, 56, 56, 256)       295168    \n",
            "                                                                 \n",
            " block3_conv2 (Conv2D)       (None, 56, 56, 256)       590080    \n",
            "                                                                 \n",
            " block3_conv3 (Conv2D)       (None, 56, 56, 256)       590080    \n",
            "                                                                 \n",
            " block3_conv4 (Conv2D)       (None, 56, 56, 256)       590080    \n",
            "                                                                 \n",
            " block3_pool (MaxPooling2D)  (None, 28, 28, 256)       0         \n",
            "                                                                 \n",
            " block4_conv1 (Conv2D)       (None, 28, 28, 512)       1180160   \n",
            "                                                                 \n",
            " block4_conv2 (Conv2D)       (None, 28, 28, 512)       2359808   \n",
            "                                                                 \n",
            " block4_conv3 (Conv2D)       (None, 28, 28, 512)       2359808   \n",
            "                                                                 \n",
            " block4_conv4 (Conv2D)       (None, 28, 28, 512)       2359808   \n",
            "                                                                 \n",
            " block4_pool (MaxPooling2D)  (None, 14, 14, 512)       0         \n",
            "                                                                 \n",
            " block5_conv1 (Conv2D)       (None, 14, 14, 512)       2359808   \n",
            "                                                                 \n",
            " block5_conv2 (Conv2D)       (None, 14, 14, 512)       2359808   \n",
            "                                                                 \n",
            " block5_conv3 (Conv2D)       (None, 14, 14, 512)       2359808   \n",
            "                                                                 \n",
            " block5_conv4 (Conv2D)       (None, 14, 14, 512)       2359808   \n",
            "                                                                 \n",
            " block5_pool (MaxPooling2D)  (None, 7, 7, 512)         0         \n",
            "                                                                 \n",
            " flatten (Flatten)           (None, 25088)             0         \n",
            "                                                                 \n",
            " fc1 (Dense)                 (None, 4096)              102764544 \n",
            "                                                                 \n",
            " fc2 (Dense)                 (None, 4096)              16781312  \n",
            "                                                                 \n",
            " output_layer (Dense)        (None, 5)                 20485     \n",
            "                                                                 \n",
            "=================================================================\n",
            "Total params: 139,590,725\n",
            "Trainable params: 20,485\n",
            "Non-trainable params: 139,570,240\n",
            "_________________________________________________________________\n"
          ]
        }
      ]
    },
    {
      "cell_type": "markdown",
      "source": [
        "### Save layer weight callback "
      ],
      "metadata": {
        "id": "vmUuA9KZtrKK"
      }
    },
    {
      "cell_type": "code",
      "execution_count": 14,
      "metadata": {
        "id": "HNM7Gm5qNt14"
      },
      "outputs": [],
      "source": [
        "# Define the layers whose weights you want to save\n",
        "layer_names = ['output_layer']\n",
        "\n",
        "# Define the custom callback function to save the weights of specific layers\n",
        "class SaveLayerWeightsCallback(ModelCheckpoint):\n",
        "    def __init__(self, filepath, layers, **kwargs):\n",
        "        self.layers = layers\n",
        "        self.filepath = filepath\n",
        "        super().__init__(filepath, **kwargs)\n",
        "\n",
        "    def on_epoch_end(self, epoch, logs=None):\n",
        "        for layer_name in self.layers:\n",
        "            layer = self.model.get_layer(layer_name)\n",
        "            weights = layer.get_weights()\n",
        "            if not os.path.exists(self.filepath):\n",
        "              os.mkdir(self.filepath)\n",
        "            filename1 = f\"{layer_name}_epoch_{epoch}_weights.csv\"\n",
        "            filename2 = f\"{layer_name}_epoch_{epoch}_bias.csv\"\n",
        "            filepath1 = os.path.join(self.filepath, filename1)\n",
        "            filepath2 = os.path.join(self.filepath, filename2)\n",
        "            # layer.save_weights(filepath)\n",
        "            pd.DataFrame(weights[0]).to_csv(filepath1, index=False)\n",
        "            pd.DataFrame(np.array([weights[1]])).to_csv(filepath2, index=False)\n",
        "            # pd.DataFrame(weights).to_csv(filepath) # this saves array as a string and which is problamatic\n",
        "\n"
      ]
    },
    {
      "cell_type": "code",
      "execution_count": 15,
      "metadata": {
        "id": "Q4a6fz9hNt14"
      },
      "outputs": [],
      "source": [
        "threshold_val = 0.0001\n",
        "early_stopping = keras.callbacks.EarlyStopping(monitor='val_loss',\n",
        "                                                  patience=3,\n",
        "                                                  min_delta=threshold_val,\n",
        "                                                  mode='min',\n",
        "                                                  restore_best_weights=True, \n",
        "                                                  verbose=1)"
      ]
    },
    {
      "cell_type": "code",
      "source": [
        "# Create an instance of the custom callback\n",
        "save_layer_weights = SaveLayerWeightsCallback(filepath='sequential-model-weights/', layers=layer_names)"
      ],
      "metadata": {
        "id": "i9Grqyt5ubo5"
      },
      "execution_count": 16,
      "outputs": []
    },
    {
      "cell_type": "code",
      "execution_count": 17,
      "metadata": {
        "id": "orTt9G8kNt15"
      },
      "outputs": [],
      "source": [
        "lr=1e-3\n",
        "epsilon_val=1e-8\n",
        "beta1=0.9\n",
        "beta2=0.999"
      ]
    },
    {
      "cell_type": "code",
      "execution_count": 18,
      "metadata": {
        "id": "xYUB0q8JNt15"
      },
      "outputs": [],
      "source": [
        "vgg19_transfer.compile(loss=keras.losses.SparseCategoricalCrossentropy(),\n",
        "                       optimizer=keras.optimizers.Adam(learning_rate=lr,\n",
        "                                                       epsilon=epsilon_val,\n",
        "                                                       beta_1=beta1,\n",
        "                                                       beta_2=beta2),\n",
        "                        metrics=['accuracy'])"
      ]
    },
    {
      "cell_type": "code",
      "execution_count": 19,
      "metadata": {
        "colab": {
          "base_uri": "https://localhost:8080/"
        },
        "id": "X3PolwzQNt15",
        "outputId": "99ba7d58-e8e4-4495-e590-2790baec981e"
      },
      "outputs": [
        {
          "output_type": "stream",
          "name": "stdout",
          "text": [
            "skip\n"
          ]
        }
      ],
      "source": [
        "%%script echo skip\n",
        "plot_model(vgg19_transfer, show_shapes=False, show_layer_activations=True)"
      ]
    },
    {
      "cell_type": "code",
      "execution_count": 20,
      "metadata": {
        "id": "lhtYj8qLNt16"
      },
      "outputs": [],
      "source": [
        "curr_path = os.getcwd()\n",
        "random_seed =42"
      ]
    },
    {
      "cell_type": "code",
      "execution_count": 21,
      "metadata": {
        "id": "nnolNLLwNt16"
      },
      "outputs": [],
      "source": [
        "normalization_layer = tf.keras.layers.Rescaling(1./255)"
      ]
    },
    {
      "cell_type": "markdown",
      "source": [
        "### Read datasets"
      ],
      "metadata": {
        "id": "PiYpZ5SquRMR"
      }
    },
    {
      "cell_type": "code",
      "execution_count": 22,
      "metadata": {
        "colab": {
          "base_uri": "https://localhost:8080/"
        },
        "id": "1RytTRfgNt16",
        "outputId": "3c3353b2-259c-4cda-959c-554d05cfd0b9"
      },
      "outputs": [
        {
          "output_type": "stream",
          "name": "stdout",
          "text": [
            "Found 250 files belonging to 5 classes.\n"
          ]
        }
      ],
      "source": [
        "train_ds = tf.keras.utils.image_dataset_from_directory(\n",
        "    curr_path + '/Group_20/train/',\n",
        "    batch_size=32,\n",
        "    seed = random_seed,\n",
        "    image_size=(224, 224)\n",
        ").map(lambda x, y: (normalization_layer(x), y))"
      ]
    },
    {
      "cell_type": "code",
      "execution_count": 23,
      "metadata": {
        "colab": {
          "base_uri": "https://localhost:8080/"
        },
        "id": "lfv4X7O5Nt17",
        "outputId": "e37611d0-1d3c-4334-d394-cc9ae8389d65"
      },
      "outputs": [
        {
          "output_type": "stream",
          "name": "stdout",
          "text": [
            "Found 50 files belonging to 5 classes.\n"
          ]
        }
      ],
      "source": [
        "# load validation dataset \n",
        "valid_ds = tf.keras.utils.image_dataset_from_directory(\n",
        "    curr_path + '/Group_20/val/',\n",
        "    batch_size=32,\n",
        "    seed = random_seed,\n",
        "    image_size=(224, 224)\n",
        ").map(lambda x, y: (normalization_layer(x), y))"
      ]
    },
    {
      "cell_type": "code",
      "source": [
        "# load test dataset \n",
        "test_ds = tf.keras.utils.image_dataset_from_directory(\n",
        "    curr_path + '/Group_20/test/',\n",
        "    batch_size=32,\n",
        "    seed = random_seed,\n",
        "    image_size=(224, 224)\n",
        ").map(lambda x, y: (normalization_layer(x), y))"
      ],
      "metadata": {
        "colab": {
          "base_uri": "https://localhost:8080/"
        },
        "id": "X983Dk9OxlRd",
        "outputId": "6e6bbfc9-adc9-4cfb-8427-d00323716e77"
      },
      "execution_count": 37,
      "outputs": [
        {
          "output_type": "stream",
          "name": "stdout",
          "text": [
            "Found 100 files belonging to 5 classes.\n"
          ]
        }
      ]
    },
    {
      "cell_type": "code",
      "execution_count": 38,
      "metadata": {
        "colab": {
          "base_uri": "https://localhost:8080/"
        },
        "id": "7c_5Sv3YNt17",
        "outputId": "8810dc51-1791-4196-9382-7099226b38b4"
      },
      "outputs": [
        {
          "output_type": "stream",
          "name": "stdout",
          "text": [
            "skip\n"
          ]
        }
      ],
      "source": [
        "%%script echo skip\n",
        "history_vgg19 = vgg19_transfer.fit(train_ds,\n",
        "                                epochs=50,\n",
        "                                batch_size=32,\n",
        "                                validation_data=valid_ds,\n",
        "                                callbacks=[save_layer_weights, early_stopping]\n",
        "                                )"
      ]
    },
    {
      "cell_type": "code",
      "source": [
        "best_w = pd.read_csv('sequential-model-weights/output_layer_epoch_2_weights.csv', dtype='float32').values\n",
        "best_b = pd.read_csv('sequential-model-weights/output_layer_epoch_2_bias.csv', dtype='float32').values[0]"
      ],
      "metadata": {
        "id": "Bsc4N1-GYtxA"
      },
      "execution_count": 39,
      "outputs": []
    },
    {
      "cell_type": "code",
      "source": [
        "## load model\n",
        "vgg19_transfer.get_layer('output_layer').set_weights([best_w, best_b])"
      ],
      "metadata": {
        "id": "yy2npB1IXO52"
      },
      "execution_count": 40,
      "outputs": []
    },
    {
      "cell_type": "markdown",
      "source": [
        "### Transfer learning summary \n",
        "- best model weights is achieved in epoch 3\n",
        "\n",
        "\n",
        "\n"
      ],
      "metadata": {
        "id": "qxB_ey7ZwEHQ"
      }
    },
    {
      "cell_type": "code",
      "source": [
        "vgg19_transfer.predict(test_ds).argmax(axis=1)"
      ],
      "metadata": {
        "colab": {
          "base_uri": "https://localhost:8080/"
        },
        "id": "b5ksjn0ivFq5",
        "outputId": "f31dcd55-3a19-4413-d6b2-0ece75ddb5ac"
      },
      "execution_count": 41,
      "outputs": [
        {
          "output_type": "stream",
          "name": "stdout",
          "text": [
            "4/4 [==============================] - 24s 433ms/step\n"
          ]
        },
        {
          "output_type": "execute_result",
          "data": {
            "text/plain": [
              "array([2, 2, 1, 4, 4, 4, 0, 1, 4, 1, 4, 4, 1, 2, 1, 4, 2, 1, 4, 2, 1, 0,\n",
              "       2, 4, 4, 2, 0, 0, 3, 1, 3, 0, 2, 1, 0, 1, 1, 1, 4, 4, 3, 2, 3, 4,\n",
              "       0, 0, 3, 2, 1, 4, 3, 0, 0, 2, 2, 3, 1, 3, 0, 1, 0, 3, 2, 0, 1, 3,\n",
              "       3, 3, 0, 1, 2, 0, 4, 1, 0, 3, 4, 2, 1, 3, 1, 1, 1, 3, 3, 3, 2, 4,\n",
              "       0, 1, 4, 1, 0, 0, 3, 2, 2, 4, 4, 3])"
            ]
          },
          "metadata": {},
          "execution_count": 41
        }
      ]
    },
    {
      "cell_type": "code",
      "source": [
        "test_loss, test_acc = vgg19_transfer.evaluate(test_ds, verbose=0)\n",
        "print(\"test accuracy = \", test_acc)\n",
        "print(\"test loss \", test_loss)"
      ],
      "metadata": {
        "colab": {
          "base_uri": "https://localhost:8080/"
        },
        "id": "Aua975HXvFuT",
        "outputId": "65054797-0526-4e3a-f840-6edf382f8474"
      },
      "execution_count": 42,
      "outputs": [
        {
          "output_type": "stream",
          "name": "stdout",
          "text": [
            "test accuracy =  0.9599999785423279\n",
            "test loss  0.11188392341136932\n"
          ]
        }
      ]
    },
    {
      "cell_type": "code",
      "source": [
        "_, train_acc = vgg19_transfer.evaluate(train_ds, verbose=0)\n",
        "_, val_acc = vgg19_transfer.evaluate(valid_ds, verbose=0)\n",
        "print(f\"training accuracy = {train_acc :.3f}\")\n",
        "print(f\"validation accuracy = {val_acc :.3f}\" )"
      ],
      "metadata": {
        "colab": {
          "base_uri": "https://localhost:8080/"
        },
        "id": "nUxMVMuCvFxT",
        "outputId": "3bfbe307-bdd2-47ee-d1f7-0ff16b559d29"
      },
      "execution_count": 43,
      "outputs": [
        {
          "output_type": "stream",
          "name": "stdout",
          "text": [
            "training accuracy = 1.000\n",
            "validation accuracy = 0.980\n"
          ]
        }
      ]
    },
    {
      "cell_type": "markdown",
      "source": [
        "### Loading saved model \n",
        "- checking if our model has been saved correctly or not"
      ],
      "metadata": {
        "id": "Gzj3ExZb1bB8"
      }
    },
    {
      "cell_type": "code",
      "source": [
        "%%script echo skip\n",
        "best_op_wb = vgg19_transfer.get_layer('output_layer').get_weights()\n",
        "sum(pd.read_csv('sequential-model-weights/output_layer_epoch_2_weights.csv', dtype='float32').values == best_op_wb[0])"
      ],
      "metadata": {
        "colab": {
          "base_uri": "https://localhost:8080/"
        },
        "id": "aU6Y3q2S2Ow2",
        "outputId": "5717fa3f-e0c2-4f1c-d205-9295bf864963"
      },
      "execution_count": 44,
      "outputs": [
        {
          "output_type": "stream",
          "name": "stdout",
          "text": [
            "skip\n"
          ]
        }
      ]
    },
    {
      "cell_type": "markdown",
      "source": [
        "- We can see that the our saved weights are exactly matching with the current best weights here epoch = 3(epoch idx=2)"
      ],
      "metadata": {
        "id": "B2CiDFv0C6Ne"
      }
    },
    {
      "cell_type": "markdown",
      "source": [
        "### Confusion Matrix plot"
      ],
      "metadata": {
        "id": "kDNbWRUYEV63"
      }
    },
    {
      "cell_type": "code",
      "source": [
        "import matplotlib.pyplot as plt\n",
        "from sklearn.metrics import confusion_matrix"
      ],
      "metadata": {
        "id": "RHywkzXzEtOe"
      },
      "execution_count": 45,
      "outputs": []
    },
    {
      "cell_type": "code",
      "source": [
        "import itertools"
      ],
      "metadata": {
        "id": "Nvl0O3zuF6l8"
      },
      "execution_count": 46,
      "outputs": []
    },
    {
      "cell_type": "code",
      "source": [
        "def make_confusion_matrix(y_true, y_pred, classes=None, figsize=(10, 10), text_size=10): \n",
        "  \"\"\"Makes a labelled confusion matrix comparing predictions and ground truth labels.\n",
        "\n",
        "  If classes is passed, confusion matrix will be labelled, if not, integer class values\n",
        "  will be used.\n",
        "\n",
        "  Args:\n",
        "    y_true: Array of truth labels (must be same shape as y_pred).\n",
        "    y_pred: Array of predicted labels (must be same shape as y_true).\n",
        "    classes: Array of class labels (e.g. string form). If `None`, integer labels are used.\n",
        "    figsize: Size of output figure (default=(10, 10)).\n",
        "    text_size: Size of output figure text (default=15).\n",
        "  \n",
        "  Returns:\n",
        "    A labelled confusion matrix plot comparing y_true and y_pred.\n",
        "  \"\"\"  \n",
        "  # Create the confustion matrix\n",
        "  cm = confusion_matrix(y_true, y_pred)\n",
        "  cm_norm = cm.astype(\"float\") / cm.sum(axis=1)[:, np.newaxis] # normalize it\n",
        "  n_classes = cm.shape[0] # find the number of classes we're dealing with\n",
        "\n",
        "  # overall accuracy\n",
        "  true_cls = 0\n",
        "  for i in range(cm.shape[0]):\n",
        "    true_cls += cm[i][i]\n",
        "  acc_all = (true_cls/len(y_true))*100\n",
        "\n",
        "  # Plot the figure and make it pretty\n",
        "  fig, ax = plt.subplots(figsize=figsize)\n",
        "  cax = ax.matshow(cm, cmap=plt.cm.Blues) # colors will represent how 'correct' a class is, darker == better\n",
        "  # fig.colorbar(cax) # for now skip plotting heat index\n",
        "\n",
        "  # Are there a list of classes?\n",
        "  if classes:\n",
        "    labels = classes\n",
        "  else:\n",
        "    labels = np.arange(cm.shape[0])\n",
        "  \n",
        "  # Label the axes \n",
        "  ax.set(title=f\"Confusion Matrix\\naccuracy: {acc_all}\",\n",
        "         xlabel=\"Predicted label\",\n",
        "         ylabel=\"True label\",\n",
        "         xticks=np.arange(n_classes), # create enough axis slots for each class\n",
        "         yticks=np.arange(n_classes), \n",
        "         xticklabels=labels, # axes will labeled with class names (if they exist) or ints\n",
        "         yticklabels=labels)\n",
        "\n",
        "  # Make x-axis labels appear on bottom\n",
        "  ax.xaxis.set_label_position(\"bottom\")\n",
        "  ax.xaxis.tick_bottom()\n",
        "\n",
        "  # Set the threshold for different colors\n",
        "  threshold = (cm.max() + cm.min()) / 2.\n",
        "\n",
        "  # Plot the text on each cell\n",
        "  for i, j in itertools.product(range(cm.shape[0]), range(cm.shape[1])):\n",
        "    plt.text(j, i, f\"{cm[i, j]} ({cm_norm[i, j]*100:.1f}%)\",\n",
        "             horizontalalignment=\"center\",\n",
        "             color=\"white\" if cm[i, j] > threshold else \"black\",\n",
        "             size=text_size)"
      ],
      "metadata": {
        "id": "pljOEpHDF6iY"
      },
      "execution_count": 75,
      "outputs": []
    },
    {
      "cell_type": "code",
      "source": [],
      "metadata": {
        "id": "KO2UY9iMF6gs"
      },
      "execution_count": 47,
      "outputs": []
    },
    {
      "cell_type": "code",
      "source": [
        "def plot_confusion_matrix(data_set, label_names):\n",
        "  # Get true labels\n",
        "  true_labels = []\n",
        "  predicted_ =[]\n",
        "  for images, labels in data_set:\n",
        "    true_labels += labels.numpy().tolist()\n",
        "    predicted_ += vgg19_transfer.predict(images, verbose=0).argmax(axis=1).tolist()\n",
        "  make_confusion_matrix(true_labels, predicted_, label_names)\n"
      ],
      "metadata": {
        "id": "7Np1qH4VF6ch"
      },
      "execution_count": 70,
      "outputs": []
    },
    {
      "cell_type": "markdown",
      "source": [
        "plotting confusion matrix with classes"
      ],
      "metadata": {
        "id": "IfSn4J-KdcI3"
      }
    },
    {
      "cell_type": "code",
      "source": [
        "class_names = ['brain', 'butterfly', 'ewer', 'helicopter', 'ketch']"
      ],
      "metadata": {
        "id": "MkYB0Ql0db21"
      },
      "execution_count": 69,
      "outputs": []
    },
    {
      "cell_type": "code",
      "source": [
        "print('                    |------------------- confusion matrix for training datasets --------------|')\n",
        "print()\n",
        "plot_confusion_matrix(train_ds, class_names)"
      ],
      "metadata": {
        "colab": {
          "base_uri": "https://localhost:8080/",
          "height": 929
        },
        "id": "_8RuUn3w3HXb",
        "outputId": "0bd9e980-815b-41f7-8f49-c09e2001a330"
      },
      "execution_count": 82,
      "outputs": [
        {
          "output_type": "stream",
          "name": "stdout",
          "text": [
            "                    |------------------- confusion matrix for training datasets --------------|\n",
            "\n"
          ]
        },
        {
          "output_type": "display_data",
          "data": {
            "text/plain": [
              "<Figure size 1000x1000 with 1 Axes>"
            ],
            "image/png": "[encoded data removed]"
          },
          "metadata": {}
        }
      ]
    },
    {
      "cell_type": "code",
      "source": [
        "print('                    |------------------- confusion matrix for validation datasets --------------|')\n",
        "print()\n",
        "plot_confusion_matrix(valid_ds, class_names)"
      ],
      "metadata": {
        "id": "0iyWFNacNzGT",
        "colab": {
          "base_uri": "https://localhost:8080/",
          "height": 929
        },
        "outputId": "6f36cb58-fa17-4a4c-f1cb-3ae75bcd472c"
      },
      "execution_count": 81,
      "outputs": [
        {
          "output_type": "stream",
          "name": "stdout",
          "text": [
            "                    |------------------- confusion matrix for validation datasets --------------|\n",
            "\n"
          ]
        },
        {
          "output_type": "display_data",
          "data": {
            "text/plain": [
              "<Figure size 1000x1000 with 1 Axes>"
            ],
            "image/png": "[encoded data removed]"
          },
          "metadata": {}
        }
      ]
    },
    {
      "cell_type": "code",
      "source": [
        "print('                    |------------------- confusion matrix for test datasets --------------|')\n",
        "print()\n",
        "plot_confusion_matrix(test_ds, class_names)"
      ],
      "metadata": {
        "id": "WWggozulU3FT",
        "colab": {
          "base_uri": "https://localhost:8080/",
          "height": 929
        },
        "outputId": "205b6f55-6a0d-4499-aeab-cdebc558769c"
      },
      "execution_count": 83,
      "outputs": [
        {
          "output_type": "stream",
          "name": "stdout",
          "text": [
            "                    |------------------- confusion matrix for test datasets --------------|\n",
            "\n"
          ]
        },
        {
          "output_type": "display_data",
          "data": {
            "text/plain": [
              "<Figure size 1000x1000 with 1 Axes>"
            ],
            "image/png": "[encoded data removed]"
          },
          "metadata": {}
        }
      ]
    },
    {
      "cell_type": "code",
      "source": [],
      "metadata": {
        "id": "daSLjoz_fYIc"
      },
      "execution_count": null,
      "outputs": []
    },
    {
      "cell_type": "markdown",
      "source": [
        "###"
      ],
      "metadata": {
        "id": "Mya11_Pcf-It"
      }
    },
    {
      "cell_type": "code",
      "source": [],
      "metadata": {
        "id": "zOriLMDQfYFi"
      },
      "execution_count": null,
      "outputs": []
    },
    {
      "cell_type": "code",
      "source": [],
      "metadata": {
        "id": "1kA0EEDxfYDd"
      },
      "execution_count": null,
      "outputs": []
    },
    {
      "cell_type": "code",
      "source": [],
      "metadata": {
        "id": "OsvkhDvBfYBb"
      },
      "execution_count": null,
      "outputs": []
    },
    {
      "cell_type": "code",
      "source": [],
      "metadata": {
        "id": "uRxT-prufX94"
      },
      "execution_count": null,
      "outputs": []
    },
    {
      "cell_type": "code",
      "source": [],
      "metadata": {
        "id": "iruDxhnifX68"
      },
      "execution_count": null,
      "outputs": []
    }
  ],
  "metadata": {
    "kernelspec": {
      "display_name": "tf",
      "language": "python",
      "name": "python3"
    },
    "language_info": {
      "codemirror_mode": {
        "name": "ipython",
        "version": 3
      },
      "file_extension": ".py",
      "mimetype": "text/x-python",
      "name": "python",
      "nbconvert_exporter": "python",
      "pygments_lexer": "ipython3",
      "version": "3.9.16"
    },
    "orig_nbformat": 4,
    "colab": {
      "provenance": [],
      "toc_visible": true
    },
    "accelerator": "GPU",
    "gpuClass": "standard"
  },
  "nbformat": 4,
  "nbformat_minor": 0
}